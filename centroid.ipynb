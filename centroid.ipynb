{
 "cells": [
  {
   "cell_type": "code",
   "execution_count": 2,
   "metadata": {},
   "outputs": [
    {
     "data": {
      "text/plain": [
       "(30.111955893502792, -94.00019300317739)"
      ]
     },
     "execution_count": 2,
     "metadata": {},
     "output_type": "execute_result"
    }
   ],
   "source": [
    "import pandas as pd\n",
    "\n",
    "# Load the CSV file\n",
    "file_path = 'EIA_Refinery_Data.csv'\n",
    "refineries_data = pd.read_csv(file_path)\n",
    "\n",
    "# From the dataset info, there is no single column that explicitly represents the total production capacity\n",
    "# Therefore, we might sum up relevant columns that indicate different aspects of refining capacity\n",
    "# However, many of these columns have a significant number of missing values\n",
    "\n",
    "# For this analysis, we'll sum up all the available capacity-related columns for each refinery as an estimate of its total capacity\n",
    "# Then, we'll calculate the weighted average centroid for PADD III locations based on this estimated total capacity\n",
    "\n",
    "# Columns to consider for capacity estimation (excluding columns with many null values or non-relevant data)\n",
    "capacity_columns = [\n",
    "    'Vacuum Dist', \n",
    "    'Catalytic Cracking', \n",
    "    'Hydro Cracking', \n",
    "    'Catalytic Recorming', \n",
    "    'Alkylates, Isomerization', \n",
    "    'Desulfurization', \n",
    "    'Fluid and Delayed Coking', \n",
    "    'Asphalt and Road Oil'\n",
    "]\n",
    "\n",
    "# Creating a new column 'Total Capacity' as the sum of the selected capacity columns\n",
    "refineries_data['Total Capacity'] = refineries_data[capacity_columns].sum(axis=1)\n",
    "\n",
    "# Filtering for PADD III locations\n",
    "padd_iii_data = refineries_data[refineries_data['PADD'] == 3]\n",
    "\n",
    "# Calculating the weighted average centroid based on overall production capacity\n",
    "# The weighted average of the latitude and longitude coordinates is computed\n",
    "total_capacity = padd_iii_data['Total Capacity'].sum()\n",
    "weighted_avg_lat = (padd_iii_data['Latitude'] * padd_iii_data['Total Capacity']).sum() / total_capacity\n",
    "weighted_avg_lon = (padd_iii_data['Longitude'] * padd_iii_data['Total Capacity']).sum() / total_capacity\n",
    "\n",
    "weighted_avg_lat, weighted_avg_lon\n"
   ]
  },
  {
   "cell_type": "code",
   "execution_count": null,
   "metadata": {},
   "outputs": [],
   "source": []
  }
 ],
 "metadata": {
  "kernelspec": {
   "display_name": "Python 3",
   "language": "python",
   "name": "python3"
  },
  "language_info": {
   "codemirror_mode": {
    "name": "ipython",
    "version": 3
   },
   "file_extension": ".py",
   "mimetype": "text/x-python",
   "name": "python",
   "nbconvert_exporter": "python",
   "pygments_lexer": "ipython3",
   "version": "3.12.0"
  }
 },
 "nbformat": 4,
 "nbformat_minor": 2
}
